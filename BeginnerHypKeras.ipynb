{
  "nbformat": 4,
  "nbformat_minor": 0,
  "metadata": {
    "colab": {
      "name": "BeginnerHypKeras.ipynb",
      "provenance": [],
      "collapsed_sections": []
    },
    "kernelspec": {
      "name": "python3",
      "display_name": "Python 3"
    },
    "language_info": {
      "name": "python"
    }
  },
  "cells": [
    {
      "cell_type": "code",
      "execution_count": null,
      "metadata": {
        "id": "0Q4z5tts2w-R"
      },
      "outputs": [],
      "source": [
        "#importiing required libraries\n",
        "import numpy as np\n",
        "import pandas as pd\n",
        "import matplotlib.pyplot as plt\n",
        "import seaborn as sns\n",
        "from sklearn.metrics import mean_squared_error\n",
        "from sklearn.model_selection import cross_val_score\n",
        "sns.set_style('darkgrid')\n",
        "import warnings\n",
        "warnings.filterwarnings('ignore')"
      ]
    },
    {
      "cell_type": "code",
      "source": [
        "#files were directly uploaded to google colab. The following code can also be used to import the file\n",
        "#from google.colab import files\n",
        "#uploaded = files.upload()\n",
        "df = pd.read_csv('weather_train.csv')"
      ],
      "metadata": {
        "id": "5eqXp6Aa3PbQ"
      },
      "execution_count": null,
      "outputs": []
    },
    {
      "cell_type": "code",
      "source": [
        "#converting date and time from string to datetime to analyse those\n",
        "from datetime import datetime\n",
        "df['DATE (YYYY/MM/DD)'] = pd.to_datetime(df['DATE (YYYY/MM/DD)'])\n",
        "df['DATE (YYYY/MM/DD)'] = df['DATE (YYYY/MM/DD)'].dt.month*30 + df['DATE (YYYY/MM/DD)'].dt.day\n",
        "df['MST'] = pd.to_datetime(df['MST'])\n",
        "df['MST'] = df['MST'].dt.hour*60 + df['MST'].dt.minute"
      ],
      "metadata": {
        "id": "crWqnqB1_MkF"
      },
      "execution_count": null,
      "outputs": []
    },
    {
      "cell_type": "code",
      "source": [
        "#converting pandas database to numpy array to employ keras\n",
        "dfv = df.values\n",
        "X = dfv[:, 0:18]\n",
        "y = dfv[:, 18]\n",
        "#converting temp into kelvin as i felt that negative temperatures might be problematic in establishing corellations\n",
        "df['Tower Dry Bulb Temp [deg C]'] = df['Tower Dry Bulb Temp [deg C]'] + 273"
      ],
      "metadata": {
        "id": "mzeAl6am8CNy"
      },
      "execution_count": null,
      "outputs": []
    },
    {
      "cell_type": "code",
      "source": [
        "#preprocessing and scaling before training the nueral network\n",
        "from sklearn import preprocessing\n",
        "min_max_scaler = preprocessing.MinMaxScaler()\n",
        "X_scaled = min_max_scaler.fit_transform(X)\n",
        "\n",
        "from sklearn.model_selection import train_test_split\n",
        "X_train, X_val_and_test, y_train, y_val_and_test = train_test_split(X_scaled, y, test_size = 0.3, random_state = 40)\n",
        "X_val, X_test, Y_val, Y_test = train_test_split(X_val_and_test, y_val_and_test, test_size=0.3)"
      ],
      "metadata": {
        "id": "KV5_mcQ_8ptP"
      },
      "execution_count": null,
      "outputs": []
    },
    {
      "cell_type": "code",
      "source": [
        "#importing model from keras \n",
        "from keras.models import Sequential\n",
        "from keras.layers import Dense\n",
        "model = Sequential([\n",
        "    Dense(32, activation='relu', input_shape=(18,)),\n",
        "    Dense(32, activation='relu'),\n",
        "    Dense(1, activation='sigmoid'),\n",
        "])\n",
        "\n",
        "from keras import backend as K\n",
        "\n",
        "#creating a function for R2 values for keras\n",
        "def coeff_determination(y_true, y_pred):\n",
        "    SS_res =  K.sum(K.square( y_true-y_pred )) \n",
        "    SS_tot = K.sum(K.square( y_true - K.mean(y_true) ) ) \n",
        "    return ( 1 - SS_res/(SS_tot + K.epsilon()) )\n",
        "\n",
        "model.compile(optimizer='adam', loss='mean_squared_error', metrics=[coeff_determination])"
      ],
      "metadata": {
        "id": "AIYdnz7D9KYt"
      },
      "execution_count": null,
      "outputs": []
    },
    {
      "cell_type": "code",
      "source": [
        "#training the model\n",
        "hist = model.fit(X_train, y_train,\n",
        "          batch_size=32, epochs=100,\n",
        "          validation_data=(X_val, Y_val))"
      ],
      "metadata": {
        "colab": {
          "base_uri": "https://localhost:8080/"
        },
        "id": "WI8t2SNk9Yib",
        "outputId": "8c37995f-11e0-49d1-fd59-5ae70ab69cf1"
      },
      "execution_count": null,
      "outputs": [
        {
          "output_type": "stream",
          "name": "stdout",
          "text": [
            "Epoch 1/100\n",
            "329/329 [==============================] - 1s 3ms/step - loss: 60962.5586 - coeff_determination: -0.0724 - val_loss: 60964.1992 - val_coeff_determination: -0.0615\n",
            "Epoch 2/100\n",
            "329/329 [==============================] - 1s 2ms/step - loss: 60958.9648 - coeff_determination: -0.0794 - val_loss: 60956.0195 - val_coeff_determination: -0.1714\n",
            "Epoch 3/100\n",
            "329/329 [==============================] - 1s 2ms/step - loss: 60953.9766 - coeff_determination: -0.1445 - val_loss: 60955.2266 - val_coeff_determination: -0.1555\n",
            "Epoch 4/100\n",
            "329/329 [==============================] - 1s 2ms/step - loss: 60952.8086 - coeff_determination: -0.1415 - val_loss: 60955.7578 - val_coeff_determination: -0.1315\n",
            "Epoch 5/100\n",
            "329/329 [==============================] - 1s 2ms/step - loss: 60952.2344 - coeff_determination: -0.1089 - val_loss: 60957.6133 - val_coeff_determination: -0.0833\n",
            "Epoch 6/100\n",
            "329/329 [==============================] - 1s 2ms/step - loss: 60951.8867 - coeff_determination: -0.0928 - val_loss: 60957.6172 - val_coeff_determination: -0.0704\n",
            "Epoch 7/100\n",
            "329/329 [==============================] - 1s 2ms/step - loss: 60951.7461 - coeff_determination: -0.0807 - val_loss: 60957.5469 - val_coeff_determination: -0.0624\n",
            "Epoch 8/100\n",
            "329/329 [==============================] - 1s 2ms/step - loss: 60951.6445 - coeff_determination: -0.0646 - val_loss: 60957.4570 - val_coeff_determination: -0.0658\n",
            "Epoch 9/100\n",
            "329/329 [==============================] - 1s 2ms/step - loss: 60951.5898 - coeff_determination: -0.0714 - val_loss: 60957.4648 - val_coeff_determination: -0.0739\n",
            "Epoch 10/100\n",
            "329/329 [==============================] - 1s 2ms/step - loss: 60951.6055 - coeff_determination: -0.0651 - val_loss: 60957.7656 - val_coeff_determination: -0.1132\n",
            "Epoch 11/100\n",
            "329/329 [==============================] - 1s 2ms/step - loss: 60951.6562 - coeff_determination: -0.0869 - val_loss: 60957.3789 - val_coeff_determination: -0.0632\n",
            "Epoch 12/100\n",
            "329/329 [==============================] - 1s 2ms/step - loss: 60951.4492 - coeff_determination: -0.0578 - val_loss: 60957.3438 - val_coeff_determination: -0.0604\n",
            "Epoch 13/100\n",
            "329/329 [==============================] - 1s 2ms/step - loss: 60951.4180 - coeff_determination: -0.0599 - val_loss: 60957.3320 - val_coeff_determination: -0.0480\n",
            "Epoch 14/100\n",
            "329/329 [==============================] - 1s 2ms/step - loss: 60951.4062 - coeff_determination: -0.0481 - val_loss: 60957.3984 - val_coeff_determination: -0.0435\n",
            "Epoch 15/100\n",
            "329/329 [==============================] - 1s 2ms/step - loss: 60951.4922 - coeff_determination: -0.0431 - val_loss: 60957.3398 - val_coeff_determination: -0.0668\n",
            "Epoch 16/100\n",
            "329/329 [==============================] - 1s 2ms/step - loss: 60951.5703 - coeff_determination: -0.0799 - val_loss: 60957.2656 - val_coeff_determination: -0.0453\n",
            "Epoch 17/100\n",
            "329/329 [==============================] - 1s 2ms/step - loss: 60951.3320 - coeff_determination: -0.0424 - val_loss: 60957.2227 - val_coeff_determination: -0.0398\n",
            "Epoch 18/100\n",
            "329/329 [==============================] - 1s 2ms/step - loss: 60951.3008 - coeff_determination: -0.0401 - val_loss: 60957.1797 - val_coeff_determination: -0.0406\n",
            "Epoch 19/100\n",
            "329/329 [==============================] - 1s 2ms/step - loss: 60951.2305 - coeff_determination: -0.0370 - val_loss: 60957.3164 - val_coeff_determination: -0.0673\n",
            "Epoch 20/100\n",
            "329/329 [==============================] - 1s 2ms/step - loss: 60951.2578 - coeff_determination: -0.0496 - val_loss: 60957.2422 - val_coeff_determination: -0.0360\n",
            "Epoch 21/100\n",
            "329/329 [==============================] - 1s 2ms/step - loss: 60951.1875 - coeff_determination: -0.0356 - val_loss: 60957.2305 - val_coeff_determination: -0.0345\n",
            "Epoch 22/100\n",
            "329/329 [==============================] - 1s 2ms/step - loss: 60951.1484 - coeff_determination: -0.0418 - val_loss: 60957.2461 - val_coeff_determination: -0.0329\n",
            "Epoch 23/100\n",
            "329/329 [==============================] - 1s 2ms/step - loss: 60951.1250 - coeff_determination: -0.0566 - val_loss: 60959.3281 - val_coeff_determination: -0.0247\n",
            "Epoch 24/100\n",
            "329/329 [==============================] - 1s 2ms/step - loss: 60951.1055 - coeff_determination: -0.0261 - val_loss: 60958.6758 - val_coeff_determination: -0.0247\n",
            "Epoch 25/100\n",
            "329/329 [==============================] - 1s 2ms/step - loss: 60951.1602 - coeff_determination: -0.0219 - val_loss: 60957.1289 - val_coeff_determination: -0.0382\n",
            "Epoch 26/100\n",
            "329/329 [==============================] - 1s 2ms/step - loss: 60951.1133 - coeff_determination: -0.0340 - val_loss: 60957.1953 - val_coeff_determination: -0.0417\n",
            "Epoch 27/100\n",
            "329/329 [==============================] - 1s 2ms/step - loss: 60951.1875 - coeff_determination: -0.0443 - val_loss: 60957.2539 - val_coeff_determination: -0.0281\n",
            "Epoch 28/100\n",
            "329/329 [==============================] - 1s 2ms/step - loss: 60951.1328 - coeff_determination: -0.0388 - val_loss: 60957.4805 - val_coeff_determination: -0.0249\n",
            "Epoch 29/100\n",
            "329/329 [==============================] - 1s 2ms/step - loss: 60951.2109 - coeff_determination: -0.0496 - val_loss: 60957.6094 - val_coeff_determination: -0.0271\n",
            "Epoch 30/100\n",
            "329/329 [==============================] - 1s 2ms/step - loss: 60951.0820 - coeff_determination: -0.0225 - val_loss: 60958.1367 - val_coeff_determination: -0.0226\n",
            "Epoch 31/100\n",
            "329/329 [==============================] - 1s 2ms/step - loss: 60951.0039 - coeff_determination: -0.0211 - val_loss: 60961.2070 - val_coeff_determination: -0.0151\n",
            "Epoch 32/100\n",
            "329/329 [==============================] - 1s 2ms/step - loss: 60951.0469 - coeff_determination: -0.0184 - val_loss: 60958.0078 - val_coeff_determination: -0.0209\n",
            "Epoch 33/100\n",
            "329/329 [==============================] - 1s 2ms/step - loss: 60951.0391 - coeff_determination: -0.0199 - val_loss: 60961.1367 - val_coeff_determination: -0.0132\n",
            "Epoch 34/100\n",
            "329/329 [==============================] - 1s 2ms/step - loss: 60950.9805 - coeff_determination: -0.0082 - val_loss: 60961.9453 - val_coeff_determination: -0.0094\n",
            "Epoch 35/100\n",
            "329/329 [==============================] - 1s 2ms/step - loss: 60951.0703 - coeff_determination: -0.0046 - val_loss: 60957.1133 - val_coeff_determination: -0.0391\n",
            "Epoch 36/100\n",
            "329/329 [==============================] - 1s 2ms/step - loss: 60950.9922 - coeff_determination: -0.0098 - val_loss: 60961.9766 - val_coeff_determination: -0.0079\n",
            "Epoch 37/100\n",
            "329/329 [==============================] - 1s 2ms/step - loss: 60951.0156 - coeff_determination: -6.7700e-04 - val_loss: 60961.5938 - val_coeff_determination: -0.0096\n",
            "Epoch 38/100\n",
            "329/329 [==============================] - 1s 2ms/step - loss: 60950.9805 - coeff_determination: 0.0050 - val_loss: 60961.9297 - val_coeff_determination: -0.0093\n",
            "Epoch 39/100\n",
            "329/329 [==============================] - 1s 2ms/step - loss: 60950.9609 - coeff_determination: -1.3518e-04 - val_loss: 60961.9570 - val_coeff_determination: -0.0044\n",
            "Epoch 40/100\n",
            "329/329 [==============================] - 1s 2ms/step - loss: 60950.9688 - coeff_determination: 0.0023 - val_loss: 60961.9727 - val_coeff_determination: -0.0036\n",
            "Epoch 41/100\n",
            "329/329 [==============================] - 1s 2ms/step - loss: 60950.9531 - coeff_determination: -6.0810e-04 - val_loss: 60961.9805 - val_coeff_determination: -0.0037\n",
            "Epoch 42/100\n",
            "329/329 [==============================] - 1s 2ms/step - loss: 60951.0469 - coeff_determination: -0.0073 - val_loss: 60960.1992 - val_coeff_determination: -0.0108\n",
            "Epoch 43/100\n",
            "329/329 [==============================] - 1s 2ms/step - loss: 60950.9844 - coeff_determination: 1.8715e-04 - val_loss: 60961.9648 - val_coeff_determination: -0.0038\n",
            "Epoch 44/100\n",
            "329/329 [==============================] - 1s 2ms/step - loss: 60950.9375 - coeff_determination: 0.0038 - val_loss: 60961.9570 - val_coeff_determination: -0.0015\n",
            "Epoch 45/100\n",
            "329/329 [==============================] - 1s 2ms/step - loss: 60950.9609 - coeff_determination: 0.0092 - val_loss: 60961.9492 - val_coeff_determination: -0.0028\n",
            "Epoch 46/100\n",
            "329/329 [==============================] - 1s 2ms/step - loss: 60950.9414 - coeff_determination: 0.0051 - val_loss: 60961.9609 - val_coeff_determination: -0.0022\n",
            "Epoch 47/100\n",
            "329/329 [==============================] - 1s 2ms/step - loss: 60950.9805 - coeff_determination: 0.0050 - val_loss: 60961.9492 - val_coeff_determination: -0.0015\n",
            "Epoch 48/100\n",
            "329/329 [==============================] - 1s 2ms/step - loss: 60950.9297 - coeff_determination: 0.0017 - val_loss: 60961.9453 - val_coeff_determination: -3.5719e-04\n",
            "Epoch 49/100\n",
            "329/329 [==============================] - 1s 2ms/step - loss: 60950.9688 - coeff_determination: 0.0022 - val_loss: 60961.9648 - val_coeff_determination: -0.0034\n",
            "Epoch 50/100\n",
            "329/329 [==============================] - 1s 2ms/step - loss: 60950.9414 - coeff_determination: 0.0081 - val_loss: 60961.9414 - val_coeff_determination: -0.0012\n",
            "Epoch 51/100\n",
            "329/329 [==============================] - 1s 2ms/step - loss: 60950.9375 - coeff_determination: 0.0099 - val_loss: 60961.9297 - val_coeff_determination: -2.6814e-05\n",
            "Epoch 52/100\n",
            "329/329 [==============================] - 1s 2ms/step - loss: 60950.9492 - coeff_determination: 0.0121 - val_loss: 60961.9414 - val_coeff_determination: 2.1132e-05\n",
            "Epoch 53/100\n",
            "329/329 [==============================] - 1s 2ms/step - loss: 60950.9102 - coeff_determination: 0.0119 - val_loss: 60961.9609 - val_coeff_determination: -0.0035\n",
            "Epoch 54/100\n",
            "329/329 [==============================] - 1s 2ms/step - loss: 60950.8633 - coeff_determination: 0.0051 - val_loss: 60961.9922 - val_coeff_determination: -5.4010e-04\n",
            "Epoch 55/100\n",
            "329/329 [==============================] - 1s 2ms/step - loss: 60951.0156 - coeff_determination: -0.0040 - val_loss: 60962.0000 - val_coeff_determination: -0.0094\n",
            "Epoch 56/100\n",
            "329/329 [==============================] - 1s 2ms/step - loss: 60951.0234 - coeff_determination: 0.0037 - val_loss: 60961.9570 - val_coeff_determination: -0.0023\n",
            "Epoch 57/100\n",
            "329/329 [==============================] - 1s 2ms/step - loss: 60950.9297 - coeff_determination: 0.0152 - val_loss: 60961.9297 - val_coeff_determination: -2.8188e-04\n",
            "Epoch 58/100\n",
            "329/329 [==============================] - 1s 2ms/step - loss: 60950.9180 - coeff_determination: 0.0032 - val_loss: 60961.9219 - val_coeff_determination: 5.8935e-04\n",
            "Epoch 59/100\n",
            "329/329 [==============================] - 1s 2ms/step - loss: 60950.9258 - coeff_determination: 0.0103 - val_loss: 60961.9258 - val_coeff_determination: 7.6140e-04\n",
            "Epoch 60/100\n",
            "329/329 [==============================] - 1s 2ms/step - loss: 60950.8867 - coeff_determination: 0.0099 - val_loss: 60961.9297 - val_coeff_determination: 4.8220e-04\n",
            "Epoch 61/100\n",
            "329/329 [==============================] - 1s 2ms/step - loss: 60950.9727 - coeff_determination: 0.0048 - val_loss: 60961.9258 - val_coeff_determination: 5.9470e-04\n",
            "Epoch 62/100\n",
            "329/329 [==============================] - 1s 2ms/step - loss: 60950.9102 - coeff_determination: 0.0107 - val_loss: 60961.9453 - val_coeff_determination: -0.0020\n",
            "Epoch 63/100\n",
            "329/329 [==============================] - 1s 2ms/step - loss: 60950.9297 - coeff_determination: 0.0091 - val_loss: 60961.9219 - val_coeff_determination: 7.3049e-04\n",
            "Epoch 64/100\n",
            "329/329 [==============================] - 1s 2ms/step - loss: 60950.9414 - coeff_determination: 0.0044 - val_loss: 60961.9258 - val_coeff_determination: 7.6747e-04\n",
            "Epoch 65/100\n",
            "329/329 [==============================] - 1s 2ms/step - loss: 60950.9414 - coeff_determination: 0.0107 - val_loss: 60961.9258 - val_coeff_determination: 4.4182e-04\n",
            "Epoch 66/100\n",
            "329/329 [==============================] - 1s 2ms/step - loss: 60950.9062 - coeff_determination: 0.0128 - val_loss: 60961.9258 - val_coeff_determination: 7.3963e-04\n",
            "Epoch 67/100\n",
            "329/329 [==============================] - 1s 2ms/step - loss: 60950.9180 - coeff_determination: 0.0145 - val_loss: 60961.9219 - val_coeff_determination: 5.7022e-04\n",
            "Epoch 68/100\n",
            "329/329 [==============================] - 1s 2ms/step - loss: 60950.9180 - coeff_determination: 0.0111 - val_loss: 60961.9844 - val_coeff_determination: -2.8466e-04\n",
            "Epoch 69/100\n",
            "329/329 [==============================] - 1s 2ms/step - loss: 60950.9375 - coeff_determination: 0.0069 - val_loss: 60961.9141 - val_coeff_determination: 0.0019\n",
            "Epoch 70/100\n",
            "329/329 [==============================] - 1s 2ms/step - loss: 60950.9258 - coeff_determination: 0.0104 - val_loss: 60961.9219 - val_coeff_determination: 4.8821e-04\n",
            "Epoch 71/100\n",
            "329/329 [==============================] - 1s 2ms/step - loss: 60950.8711 - coeff_determination: 0.0159 - val_loss: 60961.9414 - val_coeff_determination: 8.9586e-04\n",
            "Epoch 72/100\n",
            "329/329 [==============================] - 1s 4ms/step - loss: 60950.9609 - coeff_determination: 0.0113 - val_loss: 60962.0586 - val_coeff_determination: -0.0160\n",
            "Epoch 73/100\n",
            "329/329 [==============================] - 2s 6ms/step - loss: 60950.9688 - coeff_determination: -0.0023 - val_loss: 60961.9336 - val_coeff_determination: -0.0020\n",
            "Epoch 74/100\n",
            "329/329 [==============================] - 2s 5ms/step - loss: 60950.9414 - coeff_determination: -8.6358e-04 - val_loss: 60961.9336 - val_coeff_determination: -8.1758e-04\n",
            "Epoch 75/100\n",
            "329/329 [==============================] - 1s 4ms/step - loss: 60950.9297 - coeff_determination: 0.0179 - val_loss: 60961.9258 - val_coeff_determination: 0.0011\n",
            "Epoch 76/100\n",
            "329/329 [==============================] - 2s 5ms/step - loss: 60950.9414 - coeff_determination: 0.0150 - val_loss: 60961.9219 - val_coeff_determination: 0.0011\n",
            "Epoch 77/100\n",
            "329/329 [==============================] - 1s 2ms/step - loss: 60950.9102 - coeff_determination: 0.0136 - val_loss: 60961.9258 - val_coeff_determination: 0.0012\n",
            "Epoch 78/100\n",
            "329/329 [==============================] - 1s 2ms/step - loss: 60950.8633 - coeff_determination: -0.0107 - val_loss: 60961.9219 - val_coeff_determination: 0.0010\n",
            "Epoch 79/100\n",
            "329/329 [==============================] - 1s 2ms/step - loss: 60950.9180 - coeff_determination: 0.0114 - val_loss: 60961.9258 - val_coeff_determination: 3.2590e-04\n",
            "Epoch 80/100\n",
            "329/329 [==============================] - 1s 2ms/step - loss: 60950.8867 - coeff_determination: 0.0106 - val_loss: 60961.9141 - val_coeff_determination: 6.5771e-04\n",
            "Epoch 81/100\n",
            "329/329 [==============================] - 1s 2ms/step - loss: 60950.9297 - coeff_determination: 0.0022 - val_loss: 60961.9648 - val_coeff_determination: -0.0070\n",
            "Epoch 82/100\n",
            "329/329 [==============================] - 1s 2ms/step - loss: 60950.8867 - coeff_determination: 0.0158 - val_loss: 60961.9141 - val_coeff_determination: 9.2491e-04\n",
            "Epoch 83/100\n",
            "329/329 [==============================] - 1s 2ms/step - loss: 60950.9102 - coeff_determination: 0.0144 - val_loss: 60961.9141 - val_coeff_determination: 3.3770e-05\n",
            "Epoch 84/100\n",
            "329/329 [==============================] - 1s 2ms/step - loss: 60950.8867 - coeff_determination: 0.0121 - val_loss: 60961.9219 - val_coeff_determination: -0.0014\n",
            "Epoch 85/100\n",
            "329/329 [==============================] - 1s 2ms/step - loss: 60950.9062 - coeff_determination: 0.0203 - val_loss: 60962.0430 - val_coeff_determination: -0.0208\n",
            "Epoch 86/100\n",
            "329/329 [==============================] - 1s 2ms/step - loss: 60952.1719 - coeff_determination: -0.0625 - val_loss: 60962.3320 - val_coeff_determination: -0.0624\n",
            "Epoch 87/100\n",
            "329/329 [==============================] - 1s 2ms/step - loss: 60951.1133 - coeff_determination: -0.0301 - val_loss: 60962.0781 - val_coeff_determination: -0.0227\n",
            "Epoch 88/100\n",
            "329/329 [==============================] - 1s 2ms/step - loss: 60951.0391 - coeff_determination: -0.0166 - val_loss: 60962.1289 - val_coeff_determination: -0.0261\n",
            "Epoch 89/100\n",
            "329/329 [==============================] - 1s 2ms/step - loss: 60951.0352 - coeff_determination: -0.0119 - val_loss: 60962.0312 - val_coeff_determination: -0.0119\n",
            "Epoch 90/100\n",
            "329/329 [==============================] - 1s 2ms/step - loss: 60951.0156 - coeff_determination: 0.0016 - val_loss: 60961.9727 - val_coeff_determination: -0.0074\n",
            "Epoch 91/100\n",
            "329/329 [==============================] - 1s 2ms/step - loss: 60950.9180 - coeff_determination: 0.0116 - val_loss: 60961.9414 - val_coeff_determination: -0.0038\n",
            "Epoch 92/100\n",
            "329/329 [==============================] - 1s 2ms/step - loss: 60950.9102 - coeff_determination: 0.0099 - val_loss: 60961.9648 - val_coeff_determination: -0.0061\n",
            "Epoch 93/100\n",
            "329/329 [==============================] - 1s 2ms/step - loss: 60950.9258 - coeff_determination: 0.0147 - val_loss: 60961.9414 - val_coeff_determination: -0.0039\n",
            "Epoch 94/100\n",
            "329/329 [==============================] - 1s 2ms/step - loss: 60950.9297 - coeff_determination: 0.0078 - val_loss: 60961.9414 - val_coeff_determination: -0.0026\n",
            "Epoch 95/100\n",
            "329/329 [==============================] - 1s 2ms/step - loss: 60950.9062 - coeff_determination: 0.0121 - val_loss: 60961.9805 - val_coeff_determination: -0.0083\n",
            "Epoch 96/100\n",
            "329/329 [==============================] - 1s 2ms/step - loss: 60950.9102 - coeff_determination: 0.0107 - val_loss: 60961.9297 - val_coeff_determination: -0.0030\n",
            "Epoch 97/100\n",
            "329/329 [==============================] - 1s 2ms/step - loss: 60950.9180 - coeff_determination: 0.0158 - val_loss: 60961.9258 - val_coeff_determination: -0.0018\n",
            "Epoch 98/100\n",
            "329/329 [==============================] - 1s 2ms/step - loss: 60950.8945 - coeff_determination: 0.0140 - val_loss: 60961.9297 - val_coeff_determination: -0.0014\n",
            "Epoch 99/100\n",
            "329/329 [==============================] - 1s 2ms/step - loss: 60950.9180 - coeff_determination: 0.0189 - val_loss: 60961.9336 - val_coeff_determination: -0.0031\n",
            "Epoch 100/100\n",
            "329/329 [==============================] - 1s 2ms/step - loss: 60950.8945 - coeff_determination: 0.0230 - val_loss: 60961.9258 - val_coeff_determination: -0.0021\n"
          ]
        }
      ]
    },
    {
      "cell_type": "code",
      "source": [
        "#evalueating the model\n",
        "model.evaluate(X_test, Y_test)[1]"
      ],
      "metadata": {
        "colab": {
          "base_uri": "https://localhost:8080/"
        },
        "id": "qAXnHtzC9c3u",
        "outputId": "49682ff6-8716-4cec-a8a4-f36301ebffb2"
      },
      "execution_count": null,
      "outputs": [
        {
          "output_type": "stream",
          "name": "stdout",
          "text": [
            "43/43 [==============================] - 0s 2ms/step - loss: 47420.9648 - coeff_determination: -0.0079\n"
          ]
        },
        {
          "output_type": "execute_result",
          "data": {
            "text/plain": [
              "-0.007879135198891163"
            ]
          },
          "metadata": {},
          "execution_count": 37
        }
      ]
    },
    {
      "cell_type": "code",
      "source": [
        "test = pd.read_csv('weather_test.csv')"
      ],
      "metadata": {
        "id": "FegYCHfW9qUV"
      },
      "execution_count": null,
      "outputs": []
    },
    {
      "cell_type": "code",
      "source": [
        "test['DATE (YYYY/MM/DD)'] = pd.to_datetime(test['DATE (YYYY/MM/DD)'])\n",
        "test['DATE (YYYY/MM/DD)'] = test['DATE (YYYY/MM/DD)'].dt.month*30 + test['DATE (YYYY/MM/DD)'].dt.day\n",
        "test['MST'] = pd.to_datetime(test['MST'])\n",
        "test['MST'] = test['MST'].dt.hour*60 + test['MST'].dt.minute\n",
        "x = test.iloc[:, 0:18].values\n",
        "x_scaled = min_max_scaler.fit_transform(x)\n",
        "#predicting the values of snowfall of the test set\n",
        "prediction = model.predict(x_scaled)"
      ],
      "metadata": {
        "id": "AGcAZkn19x0a"
      },
      "execution_count": null,
      "outputs": []
    },
    {
      "cell_type": "code",
      "source": [
        "#converting the dataframe into a csv file\n",
        "predictions = pd.DataFrame(prediction, columns=['Snow Depth [cm]']).to_csv('predictions.csv')"
      ],
      "metadata": {
        "id": "3djgZOyC95Km"
      },
      "execution_count": null,
      "outputs": []
    }
  ]
}